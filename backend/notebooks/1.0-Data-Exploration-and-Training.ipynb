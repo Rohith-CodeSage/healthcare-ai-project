{
 "cells": [
  {
   "cell_type": "code",
   "execution_count": 11,
   "id": "1a78988c",
   "metadata": {},
   "outputs": [
    {
     "name": "stdout",
     "output_type": "stream",
     "text": [
      "Libraries imported.\n"
     ]
    }
   ],
   "source": [
    "# Cell 1: Imports\n",
    "import pandas as pd\n",
    "import numpy as np\n",
    "import joblib\n",
    "from sklearn.model_selection import train_test_split\n",
    "from sklearn.preprocessing import StandardScaler\n",
    "from sklearn.linear_model import LogisticRegression\n",
    "from sklearn.metrics import accuracy_score, classification_report\n",
    "import warnings\n",
    "warnings.filterwarnings('ignore')\n",
    "\n",
    "print(\"Libraries imported.\")"
   ]
  },
  {
   "cell_type": "code",
   "execution_count": 12,
   "id": "f8bcc03c",
   "metadata": {},
   "outputs": [
    {
     "name": "stdout",
     "output_type": "stream",
     "text": [
      "Data loaded successfully:\n",
      "   Pregnancies  Glucose  BloodPressure  SkinThickness  Insulin   BMI  \\\n",
      "0            6      148             72             35        0  33.6   \n",
      "1            1       85             66             29        0  26.6   \n",
      "2            8      183             64              0        0  23.3   \n",
      "3            1       89             66             23       94  28.1   \n",
      "4            0      137             40             35      168  43.1   \n",
      "\n",
      "   DiabetesPedigreeFunction  Age  Outcome  \n",
      "0                     0.627   50        1  \n",
      "1                     0.351   31        0  \n",
      "2                     0.672   32        1  \n",
      "3                     0.167   21        0  \n",
      "4                     2.288   33        1  \n"
     ]
    }
   ],
   "source": [
    "# Cell 2: Load Data\n",
    "# The path is relative from the notebook location (notebooks/)\n",
    "# It goes up one level (..) to 'backend/', then up another (..) to the root,\n",
    "# then down into 'data/'\n",
    "data_path = '../../data/diabetes.csv' \n",
    "try:\n",
    "    df = pd.read_csv(data_path)\n",
    "    print(\"Data loaded successfully:\")\n",
    "    print(df.head())\n",
    "except FileNotFoundError:\n",
    "    print(f\"ERROR: File not found at {data_path}\")\n",
    "    print(\"Please make sure your 'diabetes.csv' file is in the 'data/' folder.\")"
   ]
  },
  {
   "cell_type": "code",
   "execution_count": 13,
   "id": "1630d8f7",
   "metadata": {},
   "outputs": [
    {
     "name": "stdout",
     "output_type": "stream",
     "text": [
      "Cleaning data...\n",
      "Data cleaned. 0 values have been replaced with the mean.\n",
      "       Pregnancies     Glucose  BloodPressure  SkinThickness     Insulin  \\\n",
      "count   768.000000  768.000000     768.000000     768.000000  768.000000   \n",
      "mean      3.845052  121.686763      72.405184      29.153420  155.548223   \n",
      "std       3.369578   30.435949      12.096346       8.790942   85.021108   \n",
      "min       0.000000   44.000000      24.000000       7.000000   14.000000   \n",
      "25%       1.000000   99.750000      64.000000      25.000000  121.500000   \n",
      "50%       3.000000  117.000000      72.202592      29.153420  155.548223   \n",
      "75%       6.000000  140.250000      80.000000      32.000000  155.548223   \n",
      "max      17.000000  199.000000     122.000000      99.000000  846.000000   \n",
      "\n",
      "              BMI  DiabetesPedigreeFunction         Age     Outcome  \n",
      "count  768.000000                768.000000  768.000000  768.000000  \n",
      "mean    32.457464                  0.471876   33.240885    0.348958  \n",
      "std      6.875151                  0.331329   11.760232    0.476951  \n",
      "min     18.200000                  0.078000   21.000000    0.000000  \n",
      "25%     27.500000                  0.243750   24.000000    0.000000  \n",
      "50%     32.400000                  0.372500   29.000000    0.000000  \n",
      "75%     36.600000                  0.626250   41.000000    1.000000  \n",
      "max     67.100000                  2.420000   81.000000    1.000000  \n"
     ]
    }
   ],
   "source": [
    "# Cell 3: Data Cleaning\n",
    "print(\"Cleaning data...\")\n",
    "# These columns have impossible '0' values that mean 'missing'\n",
    "columns_to_clean = ['Glucose', 'BloodPressure', 'SkinThickness', 'Insulin', 'BMI']\n",
    "for col in columns_to_clean:\n",
    "    df[col] = df[col].replace(0, np.nan)\n",
    "    mean = df[col].mean(skipna=True) # Calculate average, ignoring NaNs\n",
    "    df[col] = df[col].fillna(mean)   # Fill NaNs with the average\n",
    "print(\"Data cleaned. 0 values have been replaced with the mean.\")\n",
    "print(df.describe())"
   ]
  },
  {
   "cell_type": "code",
   "execution_count": 14,
   "id": "42669d58",
   "metadata": {},
   "outputs": [
    {
     "name": "stdout",
     "output_type": "stream",
     "text": [
      "Features (X) and Target (y) are defined.\n"
     ]
    }
   ],
   "source": [
    "# Cell 4: Define Features (X) and Target (y)\n",
    "X = df.drop('Outcome', axis=1) # All columns EXCEPT 'Outcome'\n",
    "y = df['Outcome']             # Only the 'Outcome' column\n",
    "\n",
    "print(\"Features (X) and Target (y) are defined.\")"
   ]
  },
  {
   "cell_type": "code",
   "execution_count": 15,
   "id": "a215fff3",
   "metadata": {},
   "outputs": [
    {
     "name": "stdout",
     "output_type": "stream",
     "text": [
      "Data has been scaled.\n"
     ]
    }
   ],
   "source": [
    "# Cell 5: Scale Data\n",
    "# Scaling makes the model perform better\n",
    "scaler = StandardScaler()\n",
    "X_scaled = scaler.fit_transform(X)\n",
    "\n",
    "print(\"Data has been scaled.\")"
   ]
  },
  {
   "cell_type": "code",
   "execution_count": 16,
   "id": "886ea1d7",
   "metadata": {},
   "outputs": [
    {
     "name": "stdout",
     "output_type": "stream",
     "text": [
      "Training set shape: (614, 8)\n",
      "Test set shape: (154, 8)\n"
     ]
    }
   ],
   "source": [
    "# Cell 6: Split Data\n",
    "# 80% for training, 20% for testing\n",
    "X_train, X_test, y_train, y_test = train_test_split(X_scaled, y, test_size=0.2, random_state=42)\n",
    "print(f\"Training set shape: {X_train.shape}\")\n",
    "print(f\"Test set shape: {X_test.shape}\")"
   ]
  },
  {
   "cell_type": "code",
   "execution_count": 17,
   "id": "038b8382",
   "metadata": {},
   "outputs": [
    {
     "name": "stdout",
     "output_type": "stream",
     "text": [
      "Model trained successfully.\n"
     ]
    }
   ],
   "source": [
    "# Cell 7: Train Model\n",
    "model = LogisticRegression(random_state=42)\n",
    "model.fit(X_train, y_train)\n",
    "\n",
    "print(\"Model trained successfully.\")"
   ]
  },
  {
   "cell_type": "code",
   "execution_count": 18,
   "id": "e75f14b9",
   "metadata": {},
   "outputs": [
    {
     "name": "stdout",
     "output_type": "stream",
     "text": [
      "--- Model Accuracy: 75.32% ---\n",
      "\n",
      "Classification Report:\n",
      "              precision    recall  f1-score   support\n",
      "\n",
      "           0       0.80      0.83      0.81        99\n",
      "           1       0.67      0.62      0.64        55\n",
      "\n",
      "    accuracy                           0.75       154\n",
      "   macro avg       0.73      0.72      0.73       154\n",
      "weighted avg       0.75      0.75      0.75       154\n",
      "\n"
     ]
    }
   ],
   "source": [
    "# Cell 8: Evaluate Model\n",
    "y_pred = model.predict(X_test)\n",
    "accuracy = accuracy_score(y_test, y_pred)\n",
    "print(f\"--- Model Accuracy: {accuracy * 100:.2f}% ---\")\n",
    "print(\"\\nClassification Report:\")\n",
    "print(classification_report(y_test, y_pred))"
   ]
  },
  {
   "cell_type": "code",
   "execution_count": 20,
   "id": "170e2c93",
   "metadata": {},
   "outputs": [
    {
     "name": "stdout",
     "output_type": "stream",
     "text": [
      "Model saved to: ../ml_models/diabetes_model.pkl\n",
      "Scaler saved to: ../ml_models/diabetes_scaler.pkl\n",
      "\n",
      "--- You can now build and run the Docker containers! ---\n"
     ]
    }
   ],
   "source": [
    "# Cell 9: Save Model and Scaler\n",
    "# Save them to the ml_models folder (relative from the notebook)\n",
    "model_path = '../ml_models/diabetes_model.pkl'\n",
    "scaler_path = '../ml_models/diabetes_scaler.pkl'\n",
    "\n",
    "joblib.dump(model, model_path)\n",
    "joblib.dump(scaler, scaler_path)\n",
    "\n",
    "print(f\"Model saved to: {model_path}\")\n",
    "print(f\"Scaler saved to: {scaler_path}\")\n",
    "print(\"\\n--- You can now build and run the Docker containers! ---\")"
   ]
  },
  {
   "cell_type": "code",
   "execution_count": null,
   "id": "a7ae32fa",
   "metadata": {},
   "outputs": [],
   "source": []
  }
 ],
 "metadata": {
  "kernelspec": {
   "display_name": ".venv",
   "language": "python",
   "name": "python3"
  },
  "language_info": {
   "codemirror_mode": {
    "name": "ipython",
    "version": 3
   },
   "file_extension": ".py",
   "mimetype": "text/x-python",
   "name": "python",
   "nbconvert_exporter": "python",
   "pygments_lexer": "ipython3",
   "version": "3.12.10"
  }
 },
 "nbformat": 4,
 "nbformat_minor": 5
}
